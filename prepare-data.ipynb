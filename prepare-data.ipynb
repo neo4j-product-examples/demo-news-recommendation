{
 "cells": [
  {
   "cell_type": "code",
   "execution_count": null,
   "id": "59e9413b",
   "metadata": {},
   "outputs": [],
   "source": [
    "import pandas as pd\n",
    "import numpy as np\n",
    "import os"
   ]
  },
  {
   "cell_type": "markdown",
   "id": "f424b3a8",
   "metadata": {},
   "source": [
    "## Clicks & Impressions (Relationships)"
   ]
  },
  {
   "cell_type": "code",
   "execution_count": null,
   "id": "38783fb6",
   "metadata": {},
   "outputs": [],
   "source": [
    "# read the impressions from training only\n",
    "col_names = ['impressionId', 'userId', 'timeString', 'history', 'impressions']\n",
    "impression_df_train = pd.read_csv('./data/train/behaviors.tsv', sep = '\\t', header = None, names = col_names)\n",
    "impression_df_validate = pd.read_csv('./data/validate/behaviors.tsv', sep = '\\t', header = None, names = col_names)\n",
    "\n",
    "impression_df_train['splitSet'] = 'TRAIN'\n",
    "impression_df_validate['splitSet'] = 'VALIDATION'\n",
    "impression_df = pd.concat([impression_df_train, impression_df_validate], ignore_index=True)\n",
    "#impression_df "
   ]
  },
  {
   "cell_type": "code",
   "execution_count": null,
   "id": "7601582d",
   "metadata": {},
   "outputs": [],
   "source": [
    "impression_df['time'] = pd.to_datetime(impression_df.timeString, infer_datetime_format=True)\n",
    "#impression_df"
   ]
  },
  {
   "cell_type": "code",
   "execution_count": null,
   "id": "0824f43e",
   "metadata": {},
   "outputs": [],
   "source": [
    "def listify(x):\n",
    "    res = None\n",
    "    if not pd.isna(x):\n",
    "        res = x.split(' ')\n",
    "    return res\n",
    "\n",
    "impression_df['historyList'] = impression_df.history.apply(listify)\n",
    "impression_df['impressionList'] = impression_df.impressions.apply(listify)\n",
    "#impression_df"
   ]
  },
  {
   "cell_type": "code",
   "execution_count": null,
   "id": "898c0af0",
   "metadata": {},
   "outputs": [],
   "source": [
    "# Q is hustory consistently included or are earlier clicks cut off?\n",
    "historic_df = impression_df.groupby('userId').agg({'impressionId': 'count', 'splitSet':'min', \n",
    "                                                   'history': lambda x: set(list(x))}) \\\n",
    "    .reset_index().sort_values(by = 'impressionId', ascending=False)\n",
    "historic_df['numUniqueHistories'] = historic_df.history.apply(len)\n",
    "historic_df[historic_df.numUniqueHistories > 1] \n",
    "#interestingly all impression histories are the same for each user. "
   ]
  },
  {
   "cell_type": "code",
   "execution_count": null,
   "id": "6a866ed5",
   "metadata": {},
   "outputs": [],
   "source": [
    "def listify_from_set(x):\n",
    "    return ' '.join(filter(lambda i: not pd.isnull(i), x)).split(' ')\n",
    "historic_df['historyList'] = historic_df.history.apply(listify_from_set)\n",
    "historic_df.drop(columns = ['impressionId', 'history', 'numUniqueHistories'], inplace=True)\n",
    "historic_df = historic_df.explode('historyList')\n",
    "historic_df.rename(columns = {'historyList':'newsId'}, inplace=True)\n",
    "historic_df "
   ]
  },
  {
   "cell_type": "code",
   "execution_count": null,
   "id": "95020379",
   "metadata": {},
   "outputs": [],
   "source": [
    "impression_click_df = impression_df.loc[~impression_df.impressionList.isnull(),\n",
    "    ['impressionId', 'userId', 'time', 'impressionList', 'splitSet']] \\\n",
    "    .explode('impressionList')\n",
    "impression_click_df.rename(columns = {'impressionList':'newsIdHit'}, inplace=True)\n",
    "impression_click_df[[\"newsId\", \"userClickedCode\"]] = impression_click_df.newsIdHit.str.split('-', expand=True)\n",
    "impression_click_df.drop(columns = ['newsIdHit'], inplace=True)\n",
    "impression_click_df"
   ]
  },
  {
   "cell_type": "code",
   "execution_count": null,
   "id": "2b7ca5a9",
   "metadata": {},
   "outputs": [],
   "source": [
    "clicked_df = impression_click_df[impression_click_df.userClickedCode == '1'].drop(columns = ['userClickedCode'])\n",
    "did_not_click_df = impression_click_df[impression_click_df.userClickedCode == '0'].drop(columns = ['userClickedCode'])\n"
   ]
  },
  {
   "cell_type": "code",
   "execution_count": null,
   "id": "c5c8e8d2",
   "metadata": {},
   "outputs": [],
   "source": [
    "output_path = './data/clean'\n",
    "if not os.path.exists(output_path):\n",
    "    os.mkdir(output_path)\n",
    "    print(f'Created new directory: {output_path}')\n",
    "else:\n",
    "    print(f'Directory {output_path} already exists')"
   ]
  },
  {
   "cell_type": "code",
   "execution_count": null,
   "id": "e255ad96",
   "metadata": {},
   "outputs": [],
   "source": [
    "historic_df.to_csv(f'{output_path}/historic-clicks.csv', index = False)\n",
    "clicked_df.to_csv(f'{output_path}/clicks.csv', index = False)\n",
    "did_not_click_df.to_csv(f'{output_path}/did-not-click.csv', index = False)"
   ]
  },
  {
   "cell_type": "markdown",
   "id": "9c469ada",
   "metadata": {},
   "source": [
    "## Adding Users"
   ]
  },
  {
   "cell_type": "code",
   "execution_count": null,
   "id": "4e432ce2",
   "metadata": {},
   "outputs": [],
   "source": [
    "user_df = impression_df[['userId']].drop_duplicates()\n",
    "user_df"
   ]
  },
  {
   "cell_type": "code",
   "execution_count": null,
   "id": "5d922fb4",
   "metadata": {},
   "outputs": [],
   "source": [
    "user_df.to_csv(f'{output_path}/users.csv', index = False)"
   ]
  },
  {
   "cell_type": "markdown",
   "id": "ddf88af6",
   "metadata": {},
   "source": [
    "## News"
   ]
  },
  {
   "cell_type": "code",
   "execution_count": null,
   "id": "61b4a996",
   "metadata": {},
   "outputs": [],
   "source": [
    "col_names = ['newsId', 'category', 'subCategory', 'title', 'abstract', 'url', 'titleEntities','abstractEntites']\n",
    "news_train_df = pd.read_csv('./data/train/news.tsv', sep = '\\t', header = None, names = col_names)\n",
    "news_train_df.drop(columns = ['titleEntities', 'abstractEntites'], inplace=True)\n",
    "news_validate_df = pd.read_csv('./data/validate/news.tsv', sep = '\\t', header = None, names = col_names)\n",
    "news_validate_df.drop(columns = ['titleEntities', 'abstractEntites'], inplace=True)"
   ]
  },
  {
   "cell_type": "code",
   "execution_count": null,
   "id": "13c7e61f",
   "metadata": {},
   "outputs": [],
   "source": [
    "news_df = pd.concat([news_train_df, news_validate_df],ignore_index=True).drop_duplicates(subset='newsId')\n",
    "news_df"
   ]
  },
  {
   "cell_type": "code",
   "execution_count": null,
   "id": "55ee0f8d",
   "metadata": {},
   "outputs": [],
   "source": [
    "news_df.loc[news_df.abstract.isna(), 'abstract'] = ''"
   ]
  },
  {
   "cell_type": "code",
   "execution_count": null,
   "id": "0448f245",
   "metadata": {},
   "outputs": [],
   "source": [
    "#news_df.abstract = news_df.abstract.str.replace(',', ' -')\n",
    "news_df.abstract = news_df.abstract.str.replace('\"', \"'\")\n",
    "\n",
    "#news_df.title = news_df.title.str.replace(',', ' -')\n",
    "news_df.title = news_df.title.str.replace('\"', \"'\")"
   ]
  },
  {
   "cell_type": "code",
   "execution_count": null,
   "id": "ff3bf32b",
   "metadata": {},
   "outputs": [],
   "source": [
    "# a couple manual fixes\n",
    "news_df.loc[news_df.newsId == 'N18259', 'abstract'] = \"He'll be in better shape physically and he'll be in a better place mentally too,'' coach Freddie Kitchens said of Mayfield\"\n",
    "news_df.loc[news_df.newsId == 'N18259', 'url'] = 'https://assets.msn.com/labs/mind/AAIPbTZ.html'"
   ]
  },
  {
   "cell_type": "code",
   "execution_count": null,
   "id": "031c3984",
   "metadata": {},
   "outputs": [],
   "source": [
    "# a couple manual fixes\n",
    "news_df.loc[news_df.newsId == 'N16590', 'abstract'] = \"We're seeing really disturbing things coming out of the transcripts... the most disturbing I thought, aside from the open extortion of a foreign government, was the fact that the secretary of state had to call Sean Hannity to find out how the president was feeling about an ambassador, Jess McIntosh says. Tara Dowdell and Max Boot join the conversation.\"\n",
    "news_df.loc[news_df.newsId == 'N16590', 'url'] = 'https://assets.msn.com/labs/mind/BBWymjv.html'\n",
    "\n"
   ]
  },
  {
   "cell_type": "code",
   "execution_count": null,
   "id": "dbfbcf5d",
   "metadata": {},
   "outputs": [],
   "source": [
    "news_df.to_csv(f'{output_path}/news.csv', index = False)"
   ]
  }
 ],
 "metadata": {
  "kernelspec": {
   "display_name": "Python 3 (ipykernel)",
   "language": "python",
   "name": "python3"
  },
  "language_info": {
   "codemirror_mode": {
    "name": "ipython",
    "version": 3
   },
   "file_extension": ".py",
   "mimetype": "text/x-python",
   "name": "python",
   "nbconvert_exporter": "python",
   "pygments_lexer": "ipython3",
   "version": "3.9.7"
  }
 },
 "nbformat": 4,
 "nbformat_minor": 5
}
