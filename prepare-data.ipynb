{
 "cells": [
  {
   "cell_type": "code",
   "execution_count": null,
   "id": "59e9413b",
   "metadata": {},
   "outputs": [],
   "source": [
    "import pandas as pd\n",
    "import numpy as np\n",
    "import os\n",
    "import ast"
   ]
  },
  {
   "cell_type": "markdown",
   "id": "f424b3a8",
   "metadata": {},
   "source": [
    "## Clicks & Impressions (Relationships)"
   ]
  },
  {
   "cell_type": "code",
   "execution_count": null,
   "id": "38783fb6",
   "metadata": {},
   "outputs": [],
   "source": [
    "# read the impressions from training only\n",
    "col_names = ['impressionId', 'userId', 'timeString', 'history', 'impressions']\n",
    "impression_df_train = pd.read_csv('./data/train/behaviors.tsv', sep = '\\t', header = None, names = col_names)\n",
    "impression_df_validate = pd.read_csv('./data/validate/behaviors.tsv', sep = '\\t', header = None, names = col_names)\n",
    "\n",
    "impression_df_train['splitSet'] = 'TRAIN'\n",
    "impression_df_validate['splitSet'] = 'VALIDATION'\n",
    "impression_df = pd.concat([impression_df_train, impression_df_validate], ignore_index=True)\n",
    "#impression_df "
   ]
  },
  {
   "cell_type": "code",
   "execution_count": null,
   "id": "7601582d",
   "metadata": {},
   "outputs": [],
   "source": [
    "impression_df['time'] = pd.to_datetime(impression_df.timeString, infer_datetime_format=True)\n",
    "#impression_df"
   ]
  },
  {
   "cell_type": "code",
   "execution_count": null,
   "id": "0824f43e",
   "metadata": {},
   "outputs": [],
   "source": [
    "def listify(x):\n",
    "    res = None\n",
    "    if not pd.isna(x):\n",
    "        res = x.split(' ')\n",
    "    return res\n",
    "\n",
    "impression_df['historyList'] = impression_df.history.apply(listify)\n",
    "impression_df['impressionList'] = impression_df.impressions.apply(listify)\n",
    "#impression_df"
   ]
  },
  {
   "cell_type": "code",
   "execution_count": null,
   "id": "898c0af0",
   "metadata": {},
   "outputs": [],
   "source": [
    "# Q is hustory consistently included or are earlier clicks cut off?\n",
    "historic_df = impression_df.groupby('userId').agg({'impressionId': 'count', 'splitSet':'min', \n",
    "                                                   'history': lambda x: set(list(x))}) \\\n",
    "    .reset_index().sort_values(by = 'impressionId', ascending=False)\n",
    "historic_df['numUniqueHistories'] = historic_df.history.apply(len)\n",
    "historic_df[historic_df.numUniqueHistories > 1] \n",
    "#interestingly all impression histories are the same for each user. "
   ]
  },
  {
   "cell_type": "code",
   "execution_count": null,
   "id": "6a866ed5",
   "metadata": {},
   "outputs": [],
   "source": [
    "def listify_from_set(x):\n",
    "    return ' '.join(filter(lambda i: not pd.isnull(i), x)).split(' ')\n",
    "historic_df['historyList'] = historic_df.history.apply(listify_from_set)\n",
    "historic_df.drop(columns = ['impressionId', 'history', 'numUniqueHistories'], inplace=True)\n",
    "historic_df = historic_df.explode('historyList')\n",
    "historic_df.rename(columns = {'historyList':'newsId'}, inplace=True)\n",
    "historic_df "
   ]
  },
  {
   "cell_type": "code",
   "execution_count": null,
   "id": "95020379",
   "metadata": {},
   "outputs": [],
   "source": [
    "impression_click_df = impression_df.loc[~impression_df.impressionList.isnull(),\n",
    "    ['impressionId', 'userId', 'time', 'impressionList', 'splitSet']] \\\n",
    "    .explode('impressionList')\n",
    "impression_click_df.rename(columns = {'impressionList':'newsIdHit'}, inplace=True)\n",
    "impression_click_df[[\"newsId\", \"userClickedCode\"]] = impression_click_df.newsIdHit.str.split('-', expand=True)\n",
    "impression_click_df.drop(columns = ['newsIdHit'], inplace=True)\n",
    "impression_click_df"
   ]
  },
  {
   "cell_type": "code",
   "execution_count": null,
   "id": "2b7ca5a9",
   "metadata": {},
   "outputs": [],
   "source": [
    "clicked_df = impression_click_df[impression_click_df.userClickedCode == '1'].drop(columns = ['userClickedCode'])\n",
    "did_not_click_df = impression_click_df[impression_click_df.userClickedCode == '0'].drop(columns = ['userClickedCode'])\n"
   ]
  },
  {
   "cell_type": "code",
   "execution_count": null,
   "id": "c5c8e8d2",
   "metadata": {},
   "outputs": [],
   "source": [
    "output_path = './data/clean'\n",
    "if not os.path.exists(output_path):\n",
    "    os.mkdir(output_path)\n",
    "    print(f'Created new directory: {output_path}')\n",
    "else:\n",
    "    print(f'Directory {output_path} already exists')"
   ]
  },
  {
   "cell_type": "code",
   "execution_count": null,
   "id": "e255ad96",
   "metadata": {},
   "outputs": [],
   "source": [
    "historic_df.to_csv(f'{output_path}/historic-clicks.csv', index = False)\n",
    "clicked_df.to_csv(f'{output_path}/clicks.csv', index = False)\n",
    "did_not_click_df.to_csv(f'{output_path}/did-not-click.csv', index = False)"
   ]
  },
  {
   "cell_type": "markdown",
   "id": "9c469ada",
   "metadata": {},
   "source": [
    "## Adding Users"
   ]
  },
  {
   "cell_type": "code",
   "execution_count": null,
   "id": "4e432ce2",
   "metadata": {},
   "outputs": [],
   "source": [
    "user_df = impression_df[['userId']].drop_duplicates()\n",
    "user_df"
   ]
  },
  {
   "cell_type": "code",
   "execution_count": null,
   "id": "5d922fb4",
   "metadata": {},
   "outputs": [],
   "source": [
    "user_df.to_csv(f'{output_path}/users.csv', index = False)"
   ]
  },
  {
   "cell_type": "markdown",
   "id": "ddf88af6",
   "metadata": {},
   "source": [
    "## News"
   ]
  },
  {
   "cell_type": "code",
   "execution_count": null,
   "id": "61b4a996",
   "metadata": {},
   "outputs": [],
   "source": [
    "col_names = ['newsId', 'category', 'subCategory', 'title', 'abstract', 'url', 'titleEntities','abstractEntities']\n",
    "news_train_df = pd.read_csv('./data/train/news.tsv', sep = '\\t', header = None, names = col_names)\n",
    "#news_train_df.drop(columns = ['titleEntities', 'abstractEntites'], inplace=True)\n",
    "news_validate_df = pd.read_csv('./data/validate/news.tsv', sep = '\\t', header = None, names = col_names)\n",
    "# news_validate_df.drop(columns = ['titleEntities', 'abstractEntites'], inplace=True)"
   ]
  },
  {
   "cell_type": "markdown",
   "id": "eb49bcf1",
   "metadata": {},
   "source": [
    "### Wiki Title Entities"
   ]
  },
  {
   "cell_type": "code",
   "execution_count": null,
   "id": "13c7e61f",
   "metadata": {},
   "outputs": [],
   "source": [
    "news_and_entities_df = pd.concat([news_train_df, news_validate_df],ignore_index=True).drop_duplicates()"
   ]
  },
  {
   "cell_type": "code",
   "execution_count": null,
   "id": "66c600df",
   "metadata": {},
   "outputs": [],
   "source": [
    "raw_title_entity_df = news_and_entities_df.drop(columns = ['category', 'subCategory', 'title', 'abstract', 'url', 'abstractEntities'])"
   ]
  },
  {
   "cell_type": "code",
   "execution_count": null,
   "id": "28625aac",
   "metadata": {},
   "outputs": [],
   "source": [
    "def get_entities(entity_string):\n",
    "    entity_list = []\n",
    "    if not pd.isna(entity_string):\n",
    "        entity_list = ast.literal_eval(entity_string)\n",
    "    return entity_list\n",
    "\n",
    "raw_title_entity_df['titleEntitiesFormatted'] = raw_title_entity_df.titleEntities.apply(get_entities)"
   ]
  },
  {
   "cell_type": "code",
   "execution_count": null,
   "id": "64d899ce",
   "metadata": {},
   "outputs": [],
   "source": [
    "raw_title_entity_df = raw_title_entity_df.explode('titleEntitiesFormatted', ignore_index=True)\n",
    "raw_title_entity_df = raw_title_entity_df.drop(columns = ['titleEntities']).dropna().reset_index(drop=True)\n",
    "#raw_title_entity_df"
   ]
  },
  {
   "cell_type": "code",
   "execution_count": null,
   "id": "1590bcd5",
   "metadata": {},
   "outputs": [],
   "source": [
    "title_ent_df = pd.json_normalize(raw_title_entity_df.titleEntitiesFormatted)\n",
    "#title_ent_df"
   ]
  },
  {
   "cell_type": "code",
   "execution_count": null,
   "id": "1f818750",
   "metadata": {},
   "outputs": [],
   "source": [
    "title_entity_rel_df = pd.concat([title_ent_df, raw_title_entity_df[['newsId']]], axis=1)\n",
    "#title_entity_rel_df"
   ]
  },
  {
   "cell_type": "code",
   "execution_count": null,
   "id": "efbadf40",
   "metadata": {},
   "outputs": [],
   "source": [
    "\n",
    "#title_entity_rel_df.hist('Confidence')"
   ]
  },
  {
   "cell_type": "code",
   "execution_count": null,
   "id": "07c721db",
   "metadata": {},
   "outputs": [],
   "source": [
    "title_entity_df = title_entity_rel_df \\\n",
    "    .drop(columns = ['Confidence', 'OccurrenceOffsets', 'SurfaceForms', 'newsId']).drop_duplicates()\n",
    "#title_entity_df"
   ]
  },
  {
   "cell_type": "markdown",
   "id": "f27ede44",
   "metadata": {},
   "source": [
    "### wiki abstract Entities"
   ]
  },
  {
   "cell_type": "code",
   "execution_count": null,
   "id": "411bd1f3",
   "metadata": {},
   "outputs": [],
   "source": [
    "raw_abstract_entity_df = news_and_entities_df.drop(columns = ['category', 'subCategory', 'title', 'abstract', 'url', 'titleEntities'])"
   ]
  },
  {
   "cell_type": "code",
   "execution_count": null,
   "id": "e157f1aa",
   "metadata": {},
   "outputs": [],
   "source": [
    "def get_entities(entity_string):\n",
    "    entity_list = []\n",
    "    if not pd.isna(entity_string):\n",
    "        entity_list = ast.literal_eval(entity_string)\n",
    "    return entity_list\n",
    "\n",
    "raw_abstract_entity_df['abstractEntitiesFormatted'] = raw_abstract_entity_df.abstractEntities.apply(get_entities)"
   ]
  },
  {
   "cell_type": "code",
   "execution_count": null,
   "id": "2d410c94",
   "metadata": {},
   "outputs": [],
   "source": [
    "raw_abstract_entity_df = raw_abstract_entity_df.explode('abstractEntitiesFormatted', ignore_index=True)\n",
    "raw_abstract_entity_df = raw_abstract_entity_df.drop(columns = ['abstractEntities']).dropna().reset_index(drop=True)\n",
    "#raw_abstract_entity_df"
   ]
  },
  {
   "cell_type": "code",
   "execution_count": null,
   "id": "7d1d5e0e",
   "metadata": {},
   "outputs": [],
   "source": [
    "abstract_ent_df = pd.json_normalize(raw_abstract_entity_df.abstractEntitiesFormatted)\n",
    "#abstract_ent_df"
   ]
  },
  {
   "cell_type": "code",
   "execution_count": null,
   "id": "cb79b670",
   "metadata": {},
   "outputs": [],
   "source": [
    "abstract_entity_rel_df = pd.concat([abstract_ent_df, raw_abstract_entity_df[['newsId']]], axis=1)\n",
    "#abstract_entity_rel_df"
   ]
  },
  {
   "cell_type": "code",
   "execution_count": null,
   "id": "2777f0a4",
   "metadata": {},
   "outputs": [],
   "source": [
    "\n",
    "#abstract_entity_rel_df.hist('Confidence')"
   ]
  },
  {
   "cell_type": "code",
   "execution_count": null,
   "id": "d7ac0f74",
   "metadata": {},
   "outputs": [],
   "source": [
    "abstract_entity_df = abstract_entity_rel_df \\\n",
    "    .drop(columns = ['Confidence', 'OccurrenceOffsets', 'SurfaceForms', 'newsId']).drop_duplicates()\n",
    "#abstract_entity_df"
   ]
  },
  {
   "cell_type": "markdown",
   "id": "2cda7b61",
   "metadata": {},
   "source": [
    "### combine and write wiki entities"
   ]
  },
  {
   "cell_type": "code",
   "execution_count": null,
   "id": "1b045e59",
   "metadata": {},
   "outputs": [],
   "source": [
    "entity_df = pd.concat([title_entity_df, abstract_entity_df], ignore_index=True)\n",
    "#entity_df"
   ]
  },
  {
   "cell_type": "code",
   "execution_count": null,
   "id": "f68cec9d",
   "metadata": {},
   "outputs": [],
   "source": [
    "entity_df = entity_df.drop_duplicates()\n",
    "#entity_df"
   ]
  },
  {
   "cell_type": "code",
   "execution_count": null,
   "id": "f35978c6",
   "metadata": {},
   "outputs": [],
   "source": [
    "#we have some odd duplicates.  Lets just remove these for now\n",
    "dup_wiki_ids = entity_df.WikidataId[entity_df.WikidataId.duplicated()].tolist()\n",
    "entity_df.loc[entity_df.WikidataId.isin(dup_wiki_ids)].sort_values('WikidataId')"
   ]
  },
  {
   "cell_type": "code",
   "execution_count": null,
   "id": "4ee8645c",
   "metadata": {},
   "outputs": [],
   "source": [
    "title_entity_rel_df = title_entity_rel_df[~title_entity_rel_df.WikidataId.isin(dup_wiki_ids)]\n",
    "#title_entity_rel_df\n",
    "title_entity_rel_df.to_csv(f'{output_path}/title-entity-rel.csv', index = False)"
   ]
  },
  {
   "cell_type": "code",
   "execution_count": null,
   "id": "8936d979",
   "metadata": {},
   "outputs": [],
   "source": [
    "abstract_entity_rel_df = abstract_entity_rel_df[~abstract_entity_rel_df.WikidataId.isin(dup_wiki_ids)]\n",
    "#abstract_entity_rel_df\n",
    "abstract_entity_rel_df.to_csv(f'{output_path}/abstract-entity-rel.csv', index = False)"
   ]
  },
  {
   "cell_type": "code",
   "execution_count": null,
   "id": "1634541f",
   "metadata": {},
   "outputs": [],
   "source": [
    "abstract_entity_rel_df"
   ]
  },
  {
   "cell_type": "code",
   "execution_count": null,
   "id": "66c78bdf",
   "metadata": {},
   "outputs": [],
   "source": [
    "entity_df = entity_df[~entity_df.WikidataId.isin(dup_wiki_ids)]\n",
    "entity_df.to_csv(f'{output_path}/entities.csv', index = False)"
   ]
  },
  {
   "cell_type": "markdown",
   "id": "3e3e37a7",
   "metadata": {},
   "source": [
    "### News Articles"
   ]
  },
  {
   "cell_type": "code",
   "execution_count": null,
   "id": "bba5a291",
   "metadata": {},
   "outputs": [],
   "source": [
    "news_df = news_and_entities_df.drop(columns = ['titleEntities', 'abstractEntities'])"
   ]
  },
  {
   "cell_type": "code",
   "execution_count": null,
   "id": "02fb1649",
   "metadata": {},
   "outputs": [],
   "source": [
    "news_df"
   ]
  },
  {
   "cell_type": "code",
   "execution_count": null,
   "id": "55ee0f8d",
   "metadata": {},
   "outputs": [],
   "source": [
    "news_df.loc[news_df.abstract.isna(), 'abstract'] = ''"
   ]
  },
  {
   "cell_type": "code",
   "execution_count": null,
   "id": "0448f245",
   "metadata": {},
   "outputs": [],
   "source": [
    "#news_df.abstract = news_df.abstract.str.replace(',', ' -')\n",
    "news_df.abstract = news_df.abstract.str.replace('\"', \"'\")\n",
    "\n",
    "#news_df.title = news_df.title.str.replace(',', ' -')\n",
    "news_df.title = news_df.title.str.replace('\"', \"'\")"
   ]
  },
  {
   "cell_type": "code",
   "execution_count": null,
   "id": "ff3bf32b",
   "metadata": {},
   "outputs": [],
   "source": [
    "# a couple manual fixes\n",
    "news_df.loc[news_df.newsId == 'N18259', 'abstract'] = \"He'll be in better shape physically and he'll be in a better place mentally too,'' coach Freddie Kitchens said of Mayfield\"\n",
    "news_df.loc[news_df.newsId == 'N18259', 'url'] = 'https://assets.msn.com/labs/mind/AAIPbTZ.html'"
   ]
  },
  {
   "cell_type": "code",
   "execution_count": null,
   "id": "031c3984",
   "metadata": {},
   "outputs": [],
   "source": [
    "# a couple manual fixes\n",
    "news_df.loc[news_df.newsId == 'N16590', 'abstract'] = \"We're seeing really disturbing things coming out of the transcripts... the most disturbing I thought, aside from the open extortion of a foreign government, was the fact that the secretary of state had to call Sean Hannity to find out how the president was feeling about an ambassador, Jess McIntosh says. Tara Dowdell and Max Boot join the conversation.\"\n",
    "news_df.loc[news_df.newsId == 'N16590', 'url'] = 'https://assets.msn.com/labs/mind/BBWymjv.html'\n",
    "\n"
   ]
  },
  {
   "cell_type": "code",
   "execution_count": null,
   "id": "dbfbcf5d",
   "metadata": {},
   "outputs": [],
   "source": [
    "news_df.to_csv(f'{output_path}/news.csv', index = False)"
   ]
  },
  {
   "cell_type": "markdown",
   "id": "baa6228b",
   "metadata": {},
   "source": [
    "## Entity Embeddings"
   ]
  },
  {
   "cell_type": "code",
   "execution_count": null,
   "id": "a0c0c143",
   "metadata": {},
   "outputs": [],
   "source": [
    "col_names = ['wikiEntityId'] + [f'x_{i}' for i in range(101)]\n",
    "entity_emb_train_df = pd.read_csv('./data/train/entity_embedding.vec', sep = '\\t', header = None, names = col_names)\n",
    "entity_emb_validate_df = pd.read_csv('./data/validate/entity_embedding.vec', sep = '\\t', header = None, \n",
    "                                     names = col_names)\n",
    "print(entity_emb_train_df.shape[0] + entity_emb_validate_df.shape[0])"
   ]
  },
  {
   "cell_type": "code",
   "execution_count": null,
   "id": "4a705403",
   "metadata": {},
   "outputs": [],
   "source": [
    "entity_emb_df = pd.concat([entity_emb_train_df, entity_emb_validate_df],ignore_index=True)"
   ]
  },
  {
   "cell_type": "code",
   "execution_count": null,
   "id": "88d6d946",
   "metadata": {},
   "outputs": [],
   "source": [
    "entity_emb_df.drop(inplace=True, columns=['x_100'])\n",
    "entity_emb_df"
   ]
  },
  {
   "cell_type": "code",
   "execution_count": null,
   "id": "0677a372",
   "metadata": {},
   "outputs": [],
   "source": [
    "mean_embeddings = []\n",
    "for i in range(100):\n",
    "    mean_embeddings.append(entity_emb_df[f'x_{i}'].mean())\n",
    "entity_emb_df[[f'x_{i}' for i in range(100)]].mean()"
   ]
  },
  {
   "cell_type": "code",
   "execution_count": null,
   "id": "adbe62eb",
   "metadata": {},
   "outputs": [],
   "source": [
    "entity_emb_df['entityEmbedding'] = entity_emb_df.apply(lambda row:\";\".join(['%0.7f' % i for i in row.iloc[1:]]), \n",
    "                                                       axis=1)\n",
    "entity_emb_df.drop(inplace=True, columns = [f'x_{i}' for i in range(100)])"
   ]
  },
  {
   "cell_type": "code",
   "execution_count": null,
   "id": "21b07cef",
   "metadata": {},
   "outputs": [],
   "source": [
    "entity_emb_df = entity_emb_df.drop_duplicates()\n",
    "entity_emb_df"
   ]
  },
  {
   "cell_type": "code",
   "execution_count": null,
   "id": "3ee967f0",
   "metadata": {},
   "outputs": [],
   "source": [
    "entity_emb_df.wikiEntityId.duplicated().sum()"
   ]
  },
  {
   "cell_type": "code",
   "execution_count": null,
   "id": "eed570eb",
   "metadata": {},
   "outputs": [],
   "source": [
    "entity_emb_df.to_csv(f'{output_path}/entity-embedding.csv', index = False)"
   ]
  },
  {
   "cell_type": "code",
   "execution_count": null,
   "id": "11606756",
   "metadata": {},
   "outputs": [],
   "source": [
    "entity_emb_df"
   ]
  }
 ],
 "metadata": {
  "kernelspec": {
   "display_name": "Python 3 (ipykernel)",
   "language": "python",
   "name": "python3"
  },
  "language_info": {
   "codemirror_mode": {
    "name": "ipython",
    "version": 3
   },
   "file_extension": ".py",
   "mimetype": "text/x-python",
   "name": "python",
   "nbconvert_exporter": "python",
   "pygments_lexer": "ipython3",
   "version": "3.9.7"
  }
 },
 "nbformat": 4,
 "nbformat_minor": 5
}
